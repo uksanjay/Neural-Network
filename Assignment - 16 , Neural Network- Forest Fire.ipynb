{
 "cells": [
  {
   "cell_type": "code",
   "execution_count": 1,
   "id": "96ef05ff",
   "metadata": {},
   "outputs": [],
   "source": [
    "import pandas as pd\n",
    "import numpy as np\n",
    "import seaborn as sns\n",
    "import matplotlib.pyplot as plt"
   ]
  },
  {
   "cell_type": "code",
   "execution_count": 2,
   "id": "ec61203c",
   "metadata": {},
   "outputs": [],
   "source": [
    "Forest_fire = pd.read_csv('F:\\\\PYTHON\\\\DATA SCIENCE\\\\KNN AND SVM\\\\Assignment\\\\SVM\\\\forestfires.csv')"
   ]
  },
  {
   "cell_type": "code",
   "execution_count": 3,
   "id": "7c9fd343",
   "metadata": {},
   "outputs": [
    {
     "data": {
      "text/html": [
       "<div>\n",
       "<style scoped>\n",
       "    .dataframe tbody tr th:only-of-type {\n",
       "        vertical-align: middle;\n",
       "    }\n",
       "\n",
       "    .dataframe tbody tr th {\n",
       "        vertical-align: top;\n",
       "    }\n",
       "\n",
       "    .dataframe thead th {\n",
       "        text-align: right;\n",
       "    }\n",
       "</style>\n",
       "<table border=\"1\" class=\"dataframe\">\n",
       "  <thead>\n",
       "    <tr style=\"text-align: right;\">\n",
       "      <th></th>\n",
       "      <th>month</th>\n",
       "      <th>day</th>\n",
       "      <th>FFMC</th>\n",
       "      <th>DMC</th>\n",
       "      <th>DC</th>\n",
       "      <th>ISI</th>\n",
       "      <th>temp</th>\n",
       "      <th>RH</th>\n",
       "      <th>wind</th>\n",
       "      <th>rain</th>\n",
       "      <th>...</th>\n",
       "      <th>monthfeb</th>\n",
       "      <th>monthjan</th>\n",
       "      <th>monthjul</th>\n",
       "      <th>monthjun</th>\n",
       "      <th>monthmar</th>\n",
       "      <th>monthmay</th>\n",
       "      <th>monthnov</th>\n",
       "      <th>monthoct</th>\n",
       "      <th>monthsep</th>\n",
       "      <th>size_category</th>\n",
       "    </tr>\n",
       "  </thead>\n",
       "  <tbody>\n",
       "    <tr>\n",
       "      <th>0</th>\n",
       "      <td>mar</td>\n",
       "      <td>fri</td>\n",
       "      <td>86.2</td>\n",
       "      <td>26.2</td>\n",
       "      <td>94.3</td>\n",
       "      <td>5.1</td>\n",
       "      <td>8.2</td>\n",
       "      <td>51</td>\n",
       "      <td>6.7</td>\n",
       "      <td>0.0</td>\n",
       "      <td>...</td>\n",
       "      <td>0</td>\n",
       "      <td>0</td>\n",
       "      <td>0</td>\n",
       "      <td>0</td>\n",
       "      <td>1</td>\n",
       "      <td>0</td>\n",
       "      <td>0</td>\n",
       "      <td>0</td>\n",
       "      <td>0</td>\n",
       "      <td>small</td>\n",
       "    </tr>\n",
       "    <tr>\n",
       "      <th>1</th>\n",
       "      <td>oct</td>\n",
       "      <td>tue</td>\n",
       "      <td>90.6</td>\n",
       "      <td>35.4</td>\n",
       "      <td>669.1</td>\n",
       "      <td>6.7</td>\n",
       "      <td>18.0</td>\n",
       "      <td>33</td>\n",
       "      <td>0.9</td>\n",
       "      <td>0.0</td>\n",
       "      <td>...</td>\n",
       "      <td>0</td>\n",
       "      <td>0</td>\n",
       "      <td>0</td>\n",
       "      <td>0</td>\n",
       "      <td>0</td>\n",
       "      <td>0</td>\n",
       "      <td>0</td>\n",
       "      <td>1</td>\n",
       "      <td>0</td>\n",
       "      <td>small</td>\n",
       "    </tr>\n",
       "    <tr>\n",
       "      <th>2</th>\n",
       "      <td>oct</td>\n",
       "      <td>sat</td>\n",
       "      <td>90.6</td>\n",
       "      <td>43.7</td>\n",
       "      <td>686.9</td>\n",
       "      <td>6.7</td>\n",
       "      <td>14.6</td>\n",
       "      <td>33</td>\n",
       "      <td>1.3</td>\n",
       "      <td>0.0</td>\n",
       "      <td>...</td>\n",
       "      <td>0</td>\n",
       "      <td>0</td>\n",
       "      <td>0</td>\n",
       "      <td>0</td>\n",
       "      <td>0</td>\n",
       "      <td>0</td>\n",
       "      <td>0</td>\n",
       "      <td>1</td>\n",
       "      <td>0</td>\n",
       "      <td>small</td>\n",
       "    </tr>\n",
       "    <tr>\n",
       "      <th>3</th>\n",
       "      <td>mar</td>\n",
       "      <td>fri</td>\n",
       "      <td>91.7</td>\n",
       "      <td>33.3</td>\n",
       "      <td>77.5</td>\n",
       "      <td>9.0</td>\n",
       "      <td>8.3</td>\n",
       "      <td>97</td>\n",
       "      <td>4.0</td>\n",
       "      <td>0.2</td>\n",
       "      <td>...</td>\n",
       "      <td>0</td>\n",
       "      <td>0</td>\n",
       "      <td>0</td>\n",
       "      <td>0</td>\n",
       "      <td>1</td>\n",
       "      <td>0</td>\n",
       "      <td>0</td>\n",
       "      <td>0</td>\n",
       "      <td>0</td>\n",
       "      <td>small</td>\n",
       "    </tr>\n",
       "    <tr>\n",
       "      <th>4</th>\n",
       "      <td>mar</td>\n",
       "      <td>sun</td>\n",
       "      <td>89.3</td>\n",
       "      <td>51.3</td>\n",
       "      <td>102.2</td>\n",
       "      <td>9.6</td>\n",
       "      <td>11.4</td>\n",
       "      <td>99</td>\n",
       "      <td>1.8</td>\n",
       "      <td>0.0</td>\n",
       "      <td>...</td>\n",
       "      <td>0</td>\n",
       "      <td>0</td>\n",
       "      <td>0</td>\n",
       "      <td>0</td>\n",
       "      <td>1</td>\n",
       "      <td>0</td>\n",
       "      <td>0</td>\n",
       "      <td>0</td>\n",
       "      <td>0</td>\n",
       "      <td>small</td>\n",
       "    </tr>\n",
       "  </tbody>\n",
       "</table>\n",
       "<p>5 rows × 31 columns</p>\n",
       "</div>"
      ],
      "text/plain": [
       "  month  day  FFMC   DMC     DC  ISI  temp  RH  wind  rain  ...  monthfeb  \\\n",
       "0   mar  fri  86.2  26.2   94.3  5.1   8.2  51   6.7   0.0  ...         0   \n",
       "1   oct  tue  90.6  35.4  669.1  6.7  18.0  33   0.9   0.0  ...         0   \n",
       "2   oct  sat  90.6  43.7  686.9  6.7  14.6  33   1.3   0.0  ...         0   \n",
       "3   mar  fri  91.7  33.3   77.5  9.0   8.3  97   4.0   0.2  ...         0   \n",
       "4   mar  sun  89.3  51.3  102.2  9.6  11.4  99   1.8   0.0  ...         0   \n",
       "\n",
       "   monthjan  monthjul  monthjun  monthmar  monthmay  monthnov  monthoct  \\\n",
       "0         0         0         0         1         0         0         0   \n",
       "1         0         0         0         0         0         0         1   \n",
       "2         0         0         0         0         0         0         1   \n",
       "3         0         0         0         1         0         0         0   \n",
       "4         0         0         0         1         0         0         0   \n",
       "\n",
       "   monthsep  size_category  \n",
       "0         0          small  \n",
       "1         0          small  \n",
       "2         0          small  \n",
       "3         0          small  \n",
       "4         0          small  \n",
       "\n",
       "[5 rows x 31 columns]"
      ]
     },
     "execution_count": 3,
     "metadata": {},
     "output_type": "execute_result"
    }
   ],
   "source": [
    "Forest_fire.head()"
   ]
  },
  {
   "cell_type": "code",
   "execution_count": 4,
   "id": "42c241d9",
   "metadata": {},
   "outputs": [
    {
     "data": {
      "text/plain": [
       "(517, 31)"
      ]
     },
     "execution_count": 4,
     "metadata": {},
     "output_type": "execute_result"
    }
   ],
   "source": [
    "Forest_fire.shape"
   ]
  },
  {
   "cell_type": "code",
   "execution_count": 5,
   "id": "48d609e4",
   "metadata": {},
   "outputs": [
    {
     "name": "stdout",
     "output_type": "stream",
     "text": [
      "<class 'pandas.core.frame.DataFrame'>\n",
      "RangeIndex: 517 entries, 0 to 516\n",
      "Data columns (total 31 columns):\n",
      " #   Column         Non-Null Count  Dtype  \n",
      "---  ------         --------------  -----  \n",
      " 0   month          517 non-null    object \n",
      " 1   day            517 non-null    object \n",
      " 2   FFMC           517 non-null    float64\n",
      " 3   DMC            517 non-null    float64\n",
      " 4   DC             517 non-null    float64\n",
      " 5   ISI            517 non-null    float64\n",
      " 6   temp           517 non-null    float64\n",
      " 7   RH             517 non-null    int64  \n",
      " 8   wind           517 non-null    float64\n",
      " 9   rain           517 non-null    float64\n",
      " 10  area           517 non-null    float64\n",
      " 11  dayfri         517 non-null    int64  \n",
      " 12  daymon         517 non-null    int64  \n",
      " 13  daysat         517 non-null    int64  \n",
      " 14  daysun         517 non-null    int64  \n",
      " 15  daythu         517 non-null    int64  \n",
      " 16  daytue         517 non-null    int64  \n",
      " 17  daywed         517 non-null    int64  \n",
      " 18  monthapr       517 non-null    int64  \n",
      " 19  monthaug       517 non-null    int64  \n",
      " 20  monthdec       517 non-null    int64  \n",
      " 21  monthfeb       517 non-null    int64  \n",
      " 22  monthjan       517 non-null    int64  \n",
      " 23  monthjul       517 non-null    int64  \n",
      " 24  monthjun       517 non-null    int64  \n",
      " 25  monthmar       517 non-null    int64  \n",
      " 26  monthmay       517 non-null    int64  \n",
      " 27  monthnov       517 non-null    int64  \n",
      " 28  monthoct       517 non-null    int64  \n",
      " 29  monthsep       517 non-null    int64  \n",
      " 30  size_category  517 non-null    object \n",
      "dtypes: float64(8), int64(20), object(3)\n",
      "memory usage: 125.3+ KB\n"
     ]
    }
   ],
   "source": [
    "Forest_fire.info()"
   ]
  },
  {
   "cell_type": "code",
   "execution_count": 6,
   "id": "0997e47b",
   "metadata": {},
   "outputs": [],
   "source": [
    "duplicate = Forest_fire[Forest_fire.duplicated()]\n",
    "# Dupicated values "
   ]
  },
  {
   "cell_type": "code",
   "execution_count": 7,
   "id": "b7bcf5d0",
   "metadata": {},
   "outputs": [],
   "source": [
    "Forest_fire = Forest_fire.drop(duplicate.index ,axis=0).reset_index(drop=True)"
   ]
  },
  {
   "cell_type": "code",
   "execution_count": 8,
   "id": "4993a4d5",
   "metadata": {},
   "outputs": [
    {
     "data": {
      "text/html": [
       "<div>\n",
       "<style scoped>\n",
       "    .dataframe tbody tr th:only-of-type {\n",
       "        vertical-align: middle;\n",
       "    }\n",
       "\n",
       "    .dataframe tbody tr th {\n",
       "        vertical-align: top;\n",
       "    }\n",
       "\n",
       "    .dataframe thead th {\n",
       "        text-align: right;\n",
       "    }\n",
       "</style>\n",
       "<table border=\"1\" class=\"dataframe\">\n",
       "  <thead>\n",
       "    <tr style=\"text-align: right;\">\n",
       "      <th></th>\n",
       "      <th>month</th>\n",
       "      <th>day</th>\n",
       "      <th>FFMC</th>\n",
       "      <th>DMC</th>\n",
       "      <th>DC</th>\n",
       "      <th>ISI</th>\n",
       "      <th>temp</th>\n",
       "      <th>RH</th>\n",
       "      <th>wind</th>\n",
       "      <th>rain</th>\n",
       "      <th>...</th>\n",
       "      <th>monthfeb</th>\n",
       "      <th>monthjan</th>\n",
       "      <th>monthjul</th>\n",
       "      <th>monthjun</th>\n",
       "      <th>monthmar</th>\n",
       "      <th>monthmay</th>\n",
       "      <th>monthnov</th>\n",
       "      <th>monthoct</th>\n",
       "      <th>monthsep</th>\n",
       "      <th>size_category</th>\n",
       "    </tr>\n",
       "  </thead>\n",
       "  <tbody>\n",
       "    <tr>\n",
       "      <th>0</th>\n",
       "      <td>mar</td>\n",
       "      <td>fri</td>\n",
       "      <td>86.2</td>\n",
       "      <td>26.2</td>\n",
       "      <td>94.3</td>\n",
       "      <td>5.1</td>\n",
       "      <td>8.2</td>\n",
       "      <td>51</td>\n",
       "      <td>6.7</td>\n",
       "      <td>0.0</td>\n",
       "      <td>...</td>\n",
       "      <td>0</td>\n",
       "      <td>0</td>\n",
       "      <td>0</td>\n",
       "      <td>0</td>\n",
       "      <td>1</td>\n",
       "      <td>0</td>\n",
       "      <td>0</td>\n",
       "      <td>0</td>\n",
       "      <td>0</td>\n",
       "      <td>small</td>\n",
       "    </tr>\n",
       "    <tr>\n",
       "      <th>1</th>\n",
       "      <td>oct</td>\n",
       "      <td>tue</td>\n",
       "      <td>90.6</td>\n",
       "      <td>35.4</td>\n",
       "      <td>669.1</td>\n",
       "      <td>6.7</td>\n",
       "      <td>18.0</td>\n",
       "      <td>33</td>\n",
       "      <td>0.9</td>\n",
       "      <td>0.0</td>\n",
       "      <td>...</td>\n",
       "      <td>0</td>\n",
       "      <td>0</td>\n",
       "      <td>0</td>\n",
       "      <td>0</td>\n",
       "      <td>0</td>\n",
       "      <td>0</td>\n",
       "      <td>0</td>\n",
       "      <td>1</td>\n",
       "      <td>0</td>\n",
       "      <td>small</td>\n",
       "    </tr>\n",
       "    <tr>\n",
       "      <th>2</th>\n",
       "      <td>oct</td>\n",
       "      <td>sat</td>\n",
       "      <td>90.6</td>\n",
       "      <td>43.7</td>\n",
       "      <td>686.9</td>\n",
       "      <td>6.7</td>\n",
       "      <td>14.6</td>\n",
       "      <td>33</td>\n",
       "      <td>1.3</td>\n",
       "      <td>0.0</td>\n",
       "      <td>...</td>\n",
       "      <td>0</td>\n",
       "      <td>0</td>\n",
       "      <td>0</td>\n",
       "      <td>0</td>\n",
       "      <td>0</td>\n",
       "      <td>0</td>\n",
       "      <td>0</td>\n",
       "      <td>1</td>\n",
       "      <td>0</td>\n",
       "      <td>small</td>\n",
       "    </tr>\n",
       "    <tr>\n",
       "      <th>3</th>\n",
       "      <td>mar</td>\n",
       "      <td>fri</td>\n",
       "      <td>91.7</td>\n",
       "      <td>33.3</td>\n",
       "      <td>77.5</td>\n",
       "      <td>9.0</td>\n",
       "      <td>8.3</td>\n",
       "      <td>97</td>\n",
       "      <td>4.0</td>\n",
       "      <td>0.2</td>\n",
       "      <td>...</td>\n",
       "      <td>0</td>\n",
       "      <td>0</td>\n",
       "      <td>0</td>\n",
       "      <td>0</td>\n",
       "      <td>1</td>\n",
       "      <td>0</td>\n",
       "      <td>0</td>\n",
       "      <td>0</td>\n",
       "      <td>0</td>\n",
       "      <td>small</td>\n",
       "    </tr>\n",
       "    <tr>\n",
       "      <th>4</th>\n",
       "      <td>mar</td>\n",
       "      <td>sun</td>\n",
       "      <td>89.3</td>\n",
       "      <td>51.3</td>\n",
       "      <td>102.2</td>\n",
       "      <td>9.6</td>\n",
       "      <td>11.4</td>\n",
       "      <td>99</td>\n",
       "      <td>1.8</td>\n",
       "      <td>0.0</td>\n",
       "      <td>...</td>\n",
       "      <td>0</td>\n",
       "      <td>0</td>\n",
       "      <td>0</td>\n",
       "      <td>0</td>\n",
       "      <td>1</td>\n",
       "      <td>0</td>\n",
       "      <td>0</td>\n",
       "      <td>0</td>\n",
       "      <td>0</td>\n",
       "      <td>small</td>\n",
       "    </tr>\n",
       "    <tr>\n",
       "      <th>...</th>\n",
       "      <td>...</td>\n",
       "      <td>...</td>\n",
       "      <td>...</td>\n",
       "      <td>...</td>\n",
       "      <td>...</td>\n",
       "      <td>...</td>\n",
       "      <td>...</td>\n",
       "      <td>...</td>\n",
       "      <td>...</td>\n",
       "      <td>...</td>\n",
       "      <td>...</td>\n",
       "      <td>...</td>\n",
       "      <td>...</td>\n",
       "      <td>...</td>\n",
       "      <td>...</td>\n",
       "      <td>...</td>\n",
       "      <td>...</td>\n",
       "      <td>...</td>\n",
       "      <td>...</td>\n",
       "      <td>...</td>\n",
       "      <td>...</td>\n",
       "    </tr>\n",
       "    <tr>\n",
       "      <th>504</th>\n",
       "      <td>aug</td>\n",
       "      <td>sun</td>\n",
       "      <td>81.6</td>\n",
       "      <td>56.7</td>\n",
       "      <td>665.6</td>\n",
       "      <td>1.9</td>\n",
       "      <td>27.8</td>\n",
       "      <td>32</td>\n",
       "      <td>2.7</td>\n",
       "      <td>0.0</td>\n",
       "      <td>...</td>\n",
       "      <td>0</td>\n",
       "      <td>0</td>\n",
       "      <td>0</td>\n",
       "      <td>0</td>\n",
       "      <td>0</td>\n",
       "      <td>0</td>\n",
       "      <td>0</td>\n",
       "      <td>0</td>\n",
       "      <td>0</td>\n",
       "      <td>large</td>\n",
       "    </tr>\n",
       "    <tr>\n",
       "      <th>505</th>\n",
       "      <td>aug</td>\n",
       "      <td>sun</td>\n",
       "      <td>81.6</td>\n",
       "      <td>56.7</td>\n",
       "      <td>665.6</td>\n",
       "      <td>1.9</td>\n",
       "      <td>21.9</td>\n",
       "      <td>71</td>\n",
       "      <td>5.8</td>\n",
       "      <td>0.0</td>\n",
       "      <td>...</td>\n",
       "      <td>0</td>\n",
       "      <td>0</td>\n",
       "      <td>0</td>\n",
       "      <td>0</td>\n",
       "      <td>0</td>\n",
       "      <td>0</td>\n",
       "      <td>0</td>\n",
       "      <td>0</td>\n",
       "      <td>0</td>\n",
       "      <td>large</td>\n",
       "    </tr>\n",
       "    <tr>\n",
       "      <th>506</th>\n",
       "      <td>aug</td>\n",
       "      <td>sun</td>\n",
       "      <td>81.6</td>\n",
       "      <td>56.7</td>\n",
       "      <td>665.6</td>\n",
       "      <td>1.9</td>\n",
       "      <td>21.2</td>\n",
       "      <td>70</td>\n",
       "      <td>6.7</td>\n",
       "      <td>0.0</td>\n",
       "      <td>...</td>\n",
       "      <td>0</td>\n",
       "      <td>0</td>\n",
       "      <td>0</td>\n",
       "      <td>0</td>\n",
       "      <td>0</td>\n",
       "      <td>0</td>\n",
       "      <td>0</td>\n",
       "      <td>0</td>\n",
       "      <td>0</td>\n",
       "      <td>large</td>\n",
       "    </tr>\n",
       "    <tr>\n",
       "      <th>507</th>\n",
       "      <td>aug</td>\n",
       "      <td>sat</td>\n",
       "      <td>94.4</td>\n",
       "      <td>146.0</td>\n",
       "      <td>614.7</td>\n",
       "      <td>11.3</td>\n",
       "      <td>25.6</td>\n",
       "      <td>42</td>\n",
       "      <td>4.0</td>\n",
       "      <td>0.0</td>\n",
       "      <td>...</td>\n",
       "      <td>0</td>\n",
       "      <td>0</td>\n",
       "      <td>0</td>\n",
       "      <td>0</td>\n",
       "      <td>0</td>\n",
       "      <td>0</td>\n",
       "      <td>0</td>\n",
       "      <td>0</td>\n",
       "      <td>0</td>\n",
       "      <td>small</td>\n",
       "    </tr>\n",
       "    <tr>\n",
       "      <th>508</th>\n",
       "      <td>nov</td>\n",
       "      <td>tue</td>\n",
       "      <td>79.5</td>\n",
       "      <td>3.0</td>\n",
       "      <td>106.7</td>\n",
       "      <td>1.1</td>\n",
       "      <td>11.8</td>\n",
       "      <td>31</td>\n",
       "      <td>4.5</td>\n",
       "      <td>0.0</td>\n",
       "      <td>...</td>\n",
       "      <td>0</td>\n",
       "      <td>0</td>\n",
       "      <td>0</td>\n",
       "      <td>0</td>\n",
       "      <td>0</td>\n",
       "      <td>0</td>\n",
       "      <td>1</td>\n",
       "      <td>0</td>\n",
       "      <td>0</td>\n",
       "      <td>small</td>\n",
       "    </tr>\n",
       "  </tbody>\n",
       "</table>\n",
       "<p>509 rows × 31 columns</p>\n",
       "</div>"
      ],
      "text/plain": [
       "    month  day  FFMC    DMC     DC   ISI  temp  RH  wind  rain  ...  monthfeb  \\\n",
       "0     mar  fri  86.2   26.2   94.3   5.1   8.2  51   6.7   0.0  ...         0   \n",
       "1     oct  tue  90.6   35.4  669.1   6.7  18.0  33   0.9   0.0  ...         0   \n",
       "2     oct  sat  90.6   43.7  686.9   6.7  14.6  33   1.3   0.0  ...         0   \n",
       "3     mar  fri  91.7   33.3   77.5   9.0   8.3  97   4.0   0.2  ...         0   \n",
       "4     mar  sun  89.3   51.3  102.2   9.6  11.4  99   1.8   0.0  ...         0   \n",
       "..    ...  ...   ...    ...    ...   ...   ...  ..   ...   ...  ...       ...   \n",
       "504   aug  sun  81.6   56.7  665.6   1.9  27.8  32   2.7   0.0  ...         0   \n",
       "505   aug  sun  81.6   56.7  665.6   1.9  21.9  71   5.8   0.0  ...         0   \n",
       "506   aug  sun  81.6   56.7  665.6   1.9  21.2  70   6.7   0.0  ...         0   \n",
       "507   aug  sat  94.4  146.0  614.7  11.3  25.6  42   4.0   0.0  ...         0   \n",
       "508   nov  tue  79.5    3.0  106.7   1.1  11.8  31   4.5   0.0  ...         0   \n",
       "\n",
       "     monthjan  monthjul  monthjun  monthmar  monthmay  monthnov  monthoct  \\\n",
       "0           0         0         0         1         0         0         0   \n",
       "1           0         0         0         0         0         0         1   \n",
       "2           0         0         0         0         0         0         1   \n",
       "3           0         0         0         1         0         0         0   \n",
       "4           0         0         0         1         0         0         0   \n",
       "..        ...       ...       ...       ...       ...       ...       ...   \n",
       "504         0         0         0         0         0         0         0   \n",
       "505         0         0         0         0         0         0         0   \n",
       "506         0         0         0         0         0         0         0   \n",
       "507         0         0         0         0         0         0         0   \n",
       "508         0         0         0         0         0         1         0   \n",
       "\n",
       "     monthsep  size_category  \n",
       "0           0          small  \n",
       "1           0          small  \n",
       "2           0          small  \n",
       "3           0          small  \n",
       "4           0          small  \n",
       "..        ...            ...  \n",
       "504         0          large  \n",
       "505         0          large  \n",
       "506         0          large  \n",
       "507         0          small  \n",
       "508         0          small  \n",
       "\n",
       "[509 rows x 31 columns]"
      ]
     },
     "execution_count": 8,
     "metadata": {},
     "output_type": "execute_result"
    }
   ],
   "source": [
    "Forest_fire"
   ]
  },
  {
   "cell_type": "code",
   "execution_count": 9,
   "id": "c6a378f5",
   "metadata": {},
   "outputs": [
    {
     "data": {
      "text/plain": [
       "<AxesSubplot:xlabel='month', ylabel='Count'>"
      ]
     },
     "execution_count": 9,
     "metadata": {},
     "output_type": "execute_result"
    },
    {
     "data": {
      "image/png": "[encoded data removed]",
      "text/plain": [
       "<Figure size 432x288 with 1 Axes>"
      ]
     },
     "metadata": {
      "needs_background": "light"
     },
     "output_type": "display_data"
    }
   ],
   "source": [
    "sns.histplot(Forest_fire['month'])\n",
    "# Majority of forest fire happened in the month of aug and sep "
   ]
  },
  {
   "cell_type": "code",
   "execution_count": 10,
   "id": "d01d7305",
   "metadata": {},
   "outputs": [
    {
     "data": {
      "text/plain": [
       "<AxesSubplot:xlabel='day', ylabel='Count'>"
      ]
     },
     "execution_count": 10,
     "metadata": {},
     "output_type": "execute_result"
    },
    {
     "data": {
      "image/png": "[encoded data removed]",
      "text/plain": [
       "<Figure size 432x288 with 1 Axes>"
      ]
     },
     "metadata": {
      "needs_background": "light"
     },
     "output_type": "display_data"
    }
   ],
   "source": [
    "sns.histplot(Forest_fire['day'])\n",
    "# Can see cases on weekends are slightly larger compared to weekdays."
   ]
  },
  {
   "cell_type": "code",
   "execution_count": 11,
   "id": "b44b9e9d",
   "metadata": {},
   "outputs": [],
   "source": [
    "Forest_fire['month'] = Forest_fire.month.map(lambda x : 1 if x == 'sep' or x == 'aug' else 0)\n",
    "# Mapping 1 for forest fire happend in the month of 'sep' and 'aug'"
   ]
  },
  {
   "cell_type": "code",
   "execution_count": 12,
   "id": "1d3b65dd",
   "metadata": {},
   "outputs": [
    {
     "data": {
      "text/plain": [
       "1    350\n",
       "0    159\n",
       "Name: month, dtype: int64"
      ]
     },
     "execution_count": 12,
     "metadata": {},
     "output_type": "execute_result"
    }
   ],
   "source": [
    "Forest_fire['month'].value_counts()\n",
    "# 69% of the forest fire happend in the month of aug and sep "
   ]
  },
  {
   "cell_type": "code",
   "execution_count": 13,
   "id": "8cc598bc",
   "metadata": {},
   "outputs": [],
   "source": [
    "from sklearn.preprocessing import LabelEncoder"
   ]
  },
  {
   "cell_type": "code",
   "execution_count": 14,
   "id": "bef3de64",
   "metadata": {},
   "outputs": [],
   "source": [
    "label_encoder = LabelEncoder()\n",
    "Forest_fire['day'] = label_encoder.fit_transform(Forest_fire['day'])\n",
    "# Converting categirical data "
   ]
  },
  {
   "cell_type": "code",
   "execution_count": 15,
   "id": "52194256",
   "metadata": {},
   "outputs": [
    {
     "name": "stderr",
     "output_type": "stream",
     "text": [
      "C:\\Users\\admin\\anaconda3.2\\lib\\site-packages\\seaborn\\_decorators.py:36: FutureWarning: Pass the following variables as keyword args: x, y. From version 0.12, the only valid positional argument will be `data`, and passing other arguments without an explicit keyword will result in an error or misinterpretation.\n",
      "  warnings.warn(\n"
     ]
    },
    {
     "data": {
      "text/plain": [
       "<AxesSubplot:ylabel='temp'>"
      ]
     },
     "execution_count": 15,
     "metadata": {},
     "output_type": "execute_result"
    },
    {
     "data": {
      "image/png": "[encoded data removed]",
      "text/plain": [
       "<Figure size 432x288 with 1 Axes>"
      ]
     },
     "metadata": {
      "needs_background": "light"
     },
     "output_type": "display_data"
    }
   ],
   "source": [
    "sns.scatterplot(pd.Series(range(0,510)),Forest_fire['temp'] ,hue= Forest_fire['size_category'])\n",
    "# Greater number of forest fire happend as tem increases , but it cant alone decide whether its large of small fire"
   ]
  },
  {
   "cell_type": "code",
   "execution_count": 16,
   "id": "819a07c9",
   "metadata": {},
   "outputs": [],
   "source": [
    "X = Forest_fire.iloc[: ,0:10]\n",
    "Y = Forest_fire.iloc[: ,-1]\n",
    "# Dropping all dummies "
   ]
  },
  {
   "cell_type": "code",
   "execution_count": 17,
   "id": "f534ab51",
   "metadata": {},
   "outputs": [],
   "source": [
    "X['size'] = Y"
   ]
  },
  {
   "cell_type": "code",
   "execution_count": 18,
   "id": "d430183a",
   "metadata": {},
   "outputs": [
    {
     "data": {
      "text/html": [
       "<div>\n",
       "<style scoped>\n",
       "    .dataframe tbody tr th:only-of-type {\n",
       "        vertical-align: middle;\n",
       "    }\n",
       "\n",
       "    .dataframe tbody tr th {\n",
       "        vertical-align: top;\n",
       "    }\n",
       "\n",
       "    .dataframe thead th {\n",
       "        text-align: right;\n",
       "    }\n",
       "</style>\n",
       "<table border=\"1\" class=\"dataframe\">\n",
       "  <thead>\n",
       "    <tr style=\"text-align: right;\">\n",
       "      <th></th>\n",
       "      <th>month</th>\n",
       "      <th>day</th>\n",
       "      <th>FFMC</th>\n",
       "      <th>DMC</th>\n",
       "      <th>DC</th>\n",
       "      <th>ISI</th>\n",
       "      <th>temp</th>\n",
       "      <th>RH</th>\n",
       "      <th>wind</th>\n",
       "      <th>rain</th>\n",
       "      <th>size</th>\n",
       "    </tr>\n",
       "  </thead>\n",
       "  <tbody>\n",
       "    <tr>\n",
       "      <th>0</th>\n",
       "      <td>0</td>\n",
       "      <td>0</td>\n",
       "      <td>86.2</td>\n",
       "      <td>26.2</td>\n",
       "      <td>94.3</td>\n",
       "      <td>5.1</td>\n",
       "      <td>8.2</td>\n",
       "      <td>51</td>\n",
       "      <td>6.7</td>\n",
       "      <td>0.0</td>\n",
       "      <td>small</td>\n",
       "    </tr>\n",
       "    <tr>\n",
       "      <th>1</th>\n",
       "      <td>0</td>\n",
       "      <td>5</td>\n",
       "      <td>90.6</td>\n",
       "      <td>35.4</td>\n",
       "      <td>669.1</td>\n",
       "      <td>6.7</td>\n",
       "      <td>18.0</td>\n",
       "      <td>33</td>\n",
       "      <td>0.9</td>\n",
       "      <td>0.0</td>\n",
       "      <td>small</td>\n",
       "    </tr>\n",
       "    <tr>\n",
       "      <th>2</th>\n",
       "      <td>0</td>\n",
       "      <td>2</td>\n",
       "      <td>90.6</td>\n",
       "      <td>43.7</td>\n",
       "      <td>686.9</td>\n",
       "      <td>6.7</td>\n",
       "      <td>14.6</td>\n",
       "      <td>33</td>\n",
       "      <td>1.3</td>\n",
       "      <td>0.0</td>\n",
       "      <td>small</td>\n",
       "    </tr>\n",
       "    <tr>\n",
       "      <th>3</th>\n",
       "      <td>0</td>\n",
       "      <td>0</td>\n",
       "      <td>91.7</td>\n",
       "      <td>33.3</td>\n",
       "      <td>77.5</td>\n",
       "      <td>9.0</td>\n",
       "      <td>8.3</td>\n",
       "      <td>97</td>\n",
       "      <td>4.0</td>\n",
       "      <td>0.2</td>\n",
       "      <td>small</td>\n",
       "    </tr>\n",
       "    <tr>\n",
       "      <th>4</th>\n",
       "      <td>0</td>\n",
       "      <td>3</td>\n",
       "      <td>89.3</td>\n",
       "      <td>51.3</td>\n",
       "      <td>102.2</td>\n",
       "      <td>9.6</td>\n",
       "      <td>11.4</td>\n",
       "      <td>99</td>\n",
       "      <td>1.8</td>\n",
       "      <td>0.0</td>\n",
       "      <td>small</td>\n",
       "    </tr>\n",
       "    <tr>\n",
       "      <th>...</th>\n",
       "      <td>...</td>\n",
       "      <td>...</td>\n",
       "      <td>...</td>\n",
       "      <td>...</td>\n",
       "      <td>...</td>\n",
       "      <td>...</td>\n",
       "      <td>...</td>\n",
       "      <td>...</td>\n",
       "      <td>...</td>\n",
       "      <td>...</td>\n",
       "      <td>...</td>\n",
       "    </tr>\n",
       "    <tr>\n",
       "      <th>504</th>\n",
       "      <td>1</td>\n",
       "      <td>3</td>\n",
       "      <td>81.6</td>\n",
       "      <td>56.7</td>\n",
       "      <td>665.6</td>\n",
       "      <td>1.9</td>\n",
       "      <td>27.8</td>\n",
       "      <td>32</td>\n",
       "      <td>2.7</td>\n",
       "      <td>0.0</td>\n",
       "      <td>large</td>\n",
       "    </tr>\n",
       "    <tr>\n",
       "      <th>505</th>\n",
       "      <td>1</td>\n",
       "      <td>3</td>\n",
       "      <td>81.6</td>\n",
       "      <td>56.7</td>\n",
       "      <td>665.6</td>\n",
       "      <td>1.9</td>\n",
       "      <td>21.9</td>\n",
       "      <td>71</td>\n",
       "      <td>5.8</td>\n",
       "      <td>0.0</td>\n",
       "      <td>large</td>\n",
       "    </tr>\n",
       "    <tr>\n",
       "      <th>506</th>\n",
       "      <td>1</td>\n",
       "      <td>3</td>\n",
       "      <td>81.6</td>\n",
       "      <td>56.7</td>\n",
       "      <td>665.6</td>\n",
       "      <td>1.9</td>\n",
       "      <td>21.2</td>\n",
       "      <td>70</td>\n",
       "      <td>6.7</td>\n",
       "      <td>0.0</td>\n",
       "      <td>large</td>\n",
       "    </tr>\n",
       "    <tr>\n",
       "      <th>507</th>\n",
       "      <td>1</td>\n",
       "      <td>2</td>\n",
       "      <td>94.4</td>\n",
       "      <td>146.0</td>\n",
       "      <td>614.7</td>\n",
       "      <td>11.3</td>\n",
       "      <td>25.6</td>\n",
       "      <td>42</td>\n",
       "      <td>4.0</td>\n",
       "      <td>0.0</td>\n",
       "      <td>small</td>\n",
       "    </tr>\n",
       "    <tr>\n",
       "      <th>508</th>\n",
       "      <td>0</td>\n",
       "      <td>5</td>\n",
       "      <td>79.5</td>\n",
       "      <td>3.0</td>\n",
       "      <td>106.7</td>\n",
       "      <td>1.1</td>\n",
       "      <td>11.8</td>\n",
       "      <td>31</td>\n",
       "      <td>4.5</td>\n",
       "      <td>0.0</td>\n",
       "      <td>small</td>\n",
       "    </tr>\n",
       "  </tbody>\n",
       "</table>\n",
       "<p>509 rows × 11 columns</p>\n",
       "</div>"
      ],
      "text/plain": [
       "     month  day  FFMC    DMC     DC   ISI  temp  RH  wind  rain   size\n",
       "0        0    0  86.2   26.2   94.3   5.1   8.2  51   6.7   0.0  small\n",
       "1        0    5  90.6   35.4  669.1   6.7  18.0  33   0.9   0.0  small\n",
       "2        0    2  90.6   43.7  686.9   6.7  14.6  33   1.3   0.0  small\n",
       "3        0    0  91.7   33.3   77.5   9.0   8.3  97   4.0   0.2  small\n",
       "4        0    3  89.3   51.3  102.2   9.6  11.4  99   1.8   0.0  small\n",
       "..     ...  ...   ...    ...    ...   ...   ...  ..   ...   ...    ...\n",
       "504      1    3  81.6   56.7  665.6   1.9  27.8  32   2.7   0.0  large\n",
       "505      1    3  81.6   56.7  665.6   1.9  21.9  71   5.8   0.0  large\n",
       "506      1    3  81.6   56.7  665.6   1.9  21.2  70   6.7   0.0  large\n",
       "507      1    2  94.4  146.0  614.7  11.3  25.6  42   4.0   0.0  small\n",
       "508      0    5  79.5    3.0  106.7   1.1  11.8  31   4.5   0.0  small\n",
       "\n",
       "[509 rows x 11 columns]"
      ]
     },
     "execution_count": 18,
     "metadata": {},
     "output_type": "execute_result"
    }
   ],
   "source": [
    "X"
   ]
  },
  {
   "cell_type": "code",
   "execution_count": 19,
   "id": "c138a1e8",
   "metadata": {},
   "outputs": [
    {
     "name": "stderr",
     "output_type": "stream",
     "text": [
      "C:\\Users\\admin\\AppData\\Local\\Temp/ipykernel_7972/1439878620.py:1: FutureWarning: Dropping of nuisance columns in DataFrame reductions (with 'numeric_only=None') is deprecated; in a future version this will raise TypeError.  Select only valid columns before calling the reduction.\n",
      "  X.skew()\n"
     ]
    },
    {
     "data": {
      "text/plain": [
       "month    -0.812051\n",
       "day       0.159242\n",
       "FFMC     -6.540474\n",
       "DMC       0.558596\n",
       "DC       -1.100245\n",
       "ISI       2.529891\n",
       "temp     -0.321869\n",
       "RH        0.869644\n",
       "wind      0.581689\n",
       "rain     20.044822\n",
       "dtype: float64"
      ]
     },
     "execution_count": 19,
     "metadata": {},
     "output_type": "execute_result"
    }
   ],
   "source": [
    "X.skew()\n",
    "# FFMC , ISI and rain having higher skewness"
   ]
  },
  {
   "cell_type": "code",
   "execution_count": 20,
   "id": "ae8e98c2",
   "metadata": {},
   "outputs": [
    {
     "name": "stderr",
     "output_type": "stream",
     "text": [
      "C:\\Users\\admin\\AppData\\Local\\Temp/ipykernel_7972/2330635454.py:1: FutureWarning: Dropping of nuisance columns in DataFrame reductions (with 'numeric_only=None') is deprecated; in a future version this will raise TypeError.  Select only valid columns before calling the reduction.\n",
      "  X.kurtosis()\n"
     ]
    },
    {
     "data": {
      "text/plain": [
       "month     -1.345876\n",
       "day       -1.099809\n",
       "FFMC      66.255682\n",
       "DMC        0.251618\n",
       "DC        -0.242656\n",
       "ISI       21.288771\n",
       "temp       0.101560\n",
       "RH         0.447242\n",
       "wind       0.043986\n",
       "rain     426.542289\n",
       "dtype: float64"
      ]
     },
     "execution_count": 20,
     "metadata": {},
     "output_type": "execute_result"
    }
   ],
   "source": [
    "X.kurtosis()\n",
    "# FFMC , ISI and rain having higher kurtosis"
   ]
  },
  {
   "cell_type": "code",
   "execution_count": 21,
   "id": "a7b75969",
   "metadata": {},
   "outputs": [
    {
     "data": {
      "text/plain": [
       "<AxesSubplot:>"
      ]
     },
     "execution_count": 21,
     "metadata": {},
     "output_type": "execute_result"
    },
    {
     "data": {
      "image/png": "[encoded data removed]",
      "text/plain": [
       "<Figure size 432x288 with 1 Axes>"
      ]
     },
     "metadata": {
      "needs_background": "light"
     },
     "output_type": "display_data"
    }
   ],
   "source": [
    "X['FFMC'].hist()\n",
    "# Data having outliers."
   ]
  },
  {
   "cell_type": "code",
   "execution_count": 22,
   "id": "93d1fbc8",
   "metadata": {},
   "outputs": [
    {
     "data": {
      "text/plain": [
       "<AxesSubplot:xlabel='FFMC', ylabel='Count'>"
      ]
     },
     "execution_count": 22,
     "metadata": {},
     "output_type": "execute_result"
    },
    {
     "data": {
      "image/png": "[encoded data removed]",
      "text/plain": [
       "<Figure size 432x288 with 1 Axes>"
      ]
     },
     "metadata": {
      "needs_background": "light"
     },
     "output_type": "display_data"
    }
   ],
   "source": [
    "sns.histplot(np.log(X['FFMC']))\n",
    "# Even trasforming did'nt change data much. "
   ]
  },
  {
   "cell_type": "code",
   "execution_count": 23,
   "id": "37d6f1a0",
   "metadata": {},
   "outputs": [
    {
     "name": "stderr",
     "output_type": "stream",
     "text": [
      "C:\\Users\\admin\\anaconda3.2\\lib\\site-packages\\seaborn\\_decorators.py:36: FutureWarning: Pass the following variable as a keyword arg: x. From version 0.12, the only valid positional argument will be `data`, and passing other arguments without an explicit keyword will result in an error or misinterpretation.\n",
      "  warnings.warn(\n"
     ]
    },
    {
     "data": {
      "text/plain": [
       "<AxesSubplot:xlabel='FFMC'>"
      ]
     },
     "execution_count": 23,
     "metadata": {},
     "output_type": "execute_result"
    },
    {
     "data": {
      "image/png": "[encoded data removed]",
      "text/plain": [
       "<Figure size 720x576 with 1 Axes>"
      ]
     },
     "metadata": {
      "needs_background": "light"
     },
     "output_type": "display_data"
    }
   ],
   "source": [
    "plt.figure(figsize=(10,8))\n",
    "sns.boxplot(X['FFMC'])\n",
    "# Outliers "
   ]
  },
  {
   "cell_type": "code",
   "execution_count": 24,
   "id": "fe9254d7",
   "metadata": {},
   "outputs": [],
   "source": [
    "X =  X[X['FFMC']>82].reset_index(drop=True)"
   ]
  },
  {
   "cell_type": "code",
   "execution_count": 25,
   "id": "c5436df5",
   "metadata": {},
   "outputs": [
    {
     "name": "stdout",
     "output_type": "stream",
     "text": [
      "-1.0101703035168768\n",
      "1.2197812848719312\n"
     ]
    },
    {
     "data": {
      "image/png": "[encoded data removed]",
      "text/plain": [
       "<Figure size 432x288 with 1 Axes>"
      ]
     },
     "metadata": {
      "needs_background": "light"
     },
     "output_type": "display_data"
    }
   ],
   "source": [
    "X['FFMC'].hist()\n",
    "print(X['FFMC'].skew())\n",
    "print(X['FFMC'].kurt())\n",
    "# FFMC after removing outliers."
   ]
  },
  {
   "cell_type": "code",
   "execution_count": 26,
   "id": "0c0b03ba",
   "metadata": {},
   "outputs": [
    {
     "name": "stdout",
     "output_type": "stream",
     "text": [
      "-0.3956429750308574\n",
      "1.1023035647359394\n"
     ]
    }
   ],
   "source": [
    "print(np.log(X['ISI']).skew())\n",
    "print(np.log(X['ISI']).kurt())\n",
    "# Trasforming 'ISI' , improving skew and kurt "
   ]
  },
  {
   "cell_type": "code",
   "execution_count": 27,
   "id": "d1f3b7b9",
   "metadata": {},
   "outputs": [],
   "source": [
    "X['ISI'] = np.log(X['ISI'])"
   ]
  },
  {
   "cell_type": "code",
   "execution_count": 28,
   "id": "0a82fb1f",
   "metadata": {},
   "outputs": [
    {
     "name": "stdout",
     "output_type": "stream",
     "text": [
      "19.666965530007538\n",
      "410.6099506219663\n"
     ]
    },
    {
     "data": {
      "image/png": "[encoded data removed]",
      "text/plain": [
       "<Figure size 432x288 with 1 Axes>"
      ]
     },
     "metadata": {
      "needs_background": "light"
     },
     "output_type": "display_data"
    }
   ],
   "source": [
    "sns.histplot(X['rain'])\n",
    "print(X['rain'].skew())\n",
    "print(X['rain'].kurt())"
   ]
  },
  {
   "cell_type": "code",
   "execution_count": 29,
   "id": "c608cb33",
   "metadata": {},
   "outputs": [
    {
     "name": "stderr",
     "output_type": "stream",
     "text": [
      "C:\\Users\\admin\\anaconda3.2\\lib\\site-packages\\seaborn\\_decorators.py:36: FutureWarning: Pass the following variable as a keyword arg: x. From version 0.12, the only valid positional argument will be `data`, and passing other arguments without an explicit keyword will result in an error or misinterpretation.\n",
      "  warnings.warn(\n"
     ]
    },
    {
     "data": {
      "text/plain": [
       "<AxesSubplot:xlabel='rain'>"
      ]
     },
     "execution_count": 29,
     "metadata": {},
     "output_type": "execute_result"
    },
    {
     "data": {
      "image/png": "[encoded data removed]",
      "text/plain": [
       "<Figure size 432x288 with 1 Axes>"
      ]
     },
     "metadata": {
      "needs_background": "light"
     },
     "output_type": "display_data"
    }
   ],
   "source": [
    "sns.boxplot(X['rain'])"
   ]
  },
  {
   "cell_type": "code",
   "execution_count": 30,
   "id": "87660230",
   "metadata": {},
   "outputs": [
    {
     "data": {
      "text/html": [
       "<div>\n",
       "<style scoped>\n",
       "    .dataframe tbody tr th:only-of-type {\n",
       "        vertical-align: middle;\n",
       "    }\n",
       "\n",
       "    .dataframe tbody tr th {\n",
       "        vertical-align: top;\n",
       "    }\n",
       "\n",
       "    .dataframe thead th {\n",
       "        text-align: right;\n",
       "    }\n",
       "</style>\n",
       "<table border=\"1\" class=\"dataframe\">\n",
       "  <thead>\n",
       "    <tr style=\"text-align: right;\">\n",
       "      <th></th>\n",
       "      <th>month</th>\n",
       "      <th>day</th>\n",
       "      <th>FFMC</th>\n",
       "      <th>DMC</th>\n",
       "      <th>DC</th>\n",
       "      <th>ISI</th>\n",
       "      <th>temp</th>\n",
       "      <th>RH</th>\n",
       "      <th>wind</th>\n",
       "      <th>rain</th>\n",
       "      <th>size</th>\n",
       "    </tr>\n",
       "  </thead>\n",
       "  <tbody>\n",
       "    <tr>\n",
       "      <th>3</th>\n",
       "      <td>0</td>\n",
       "      <td>0</td>\n",
       "      <td>91.7</td>\n",
       "      <td>33.3</td>\n",
       "      <td>77.5</td>\n",
       "      <td>2.197225</td>\n",
       "      <td>8.3</td>\n",
       "      <td>97</td>\n",
       "      <td>4.0</td>\n",
       "      <td>0.2</td>\n",
       "      <td>small</td>\n",
       "    </tr>\n",
       "    <tr>\n",
       "      <th>232</th>\n",
       "      <td>1</td>\n",
       "      <td>3</td>\n",
       "      <td>91.8</td>\n",
       "      <td>175.1</td>\n",
       "      <td>700.7</td>\n",
       "      <td>2.624669</td>\n",
       "      <td>21.9</td>\n",
       "      <td>73</td>\n",
       "      <td>7.6</td>\n",
       "      <td>1.0</td>\n",
       "      <td>small</td>\n",
       "    </tr>\n",
       "    <tr>\n",
       "      <th>275</th>\n",
       "      <td>0</td>\n",
       "      <td>6</td>\n",
       "      <td>91.2</td>\n",
       "      <td>183.1</td>\n",
       "      <td>437.7</td>\n",
       "      <td>2.525729</td>\n",
       "      <td>12.6</td>\n",
       "      <td>90</td>\n",
       "      <td>7.6</td>\n",
       "      <td>0.2</td>\n",
       "      <td>small</td>\n",
       "    </tr>\n",
       "    <tr>\n",
       "      <th>479</th>\n",
       "      <td>1</td>\n",
       "      <td>5</td>\n",
       "      <td>96.1</td>\n",
       "      <td>181.1</td>\n",
       "      <td>671.2</td>\n",
       "      <td>2.660260</td>\n",
       "      <td>27.3</td>\n",
       "      <td>63</td>\n",
       "      <td>4.9</td>\n",
       "      <td>6.4</td>\n",
       "      <td>large</td>\n",
       "    </tr>\n",
       "    <tr>\n",
       "      <th>480</th>\n",
       "      <td>1</td>\n",
       "      <td>5</td>\n",
       "      <td>96.1</td>\n",
       "      <td>181.1</td>\n",
       "      <td>671.2</td>\n",
       "      <td>2.660260</td>\n",
       "      <td>21.6</td>\n",
       "      <td>65</td>\n",
       "      <td>4.9</td>\n",
       "      <td>0.8</td>\n",
       "      <td>small</td>\n",
       "    </tr>\n",
       "    <tr>\n",
       "      <th>481</th>\n",
       "      <td>1</td>\n",
       "      <td>5</td>\n",
       "      <td>96.1</td>\n",
       "      <td>181.1</td>\n",
       "      <td>671.2</td>\n",
       "      <td>2.660260</td>\n",
       "      <td>20.7</td>\n",
       "      <td>69</td>\n",
       "      <td>4.9</td>\n",
       "      <td>0.4</td>\n",
       "      <td>small</td>\n",
       "    </tr>\n",
       "    <tr>\n",
       "      <th>487</th>\n",
       "      <td>1</td>\n",
       "      <td>0</td>\n",
       "      <td>91.0</td>\n",
       "      <td>166.9</td>\n",
       "      <td>752.6</td>\n",
       "      <td>1.960095</td>\n",
       "      <td>21.1</td>\n",
       "      <td>71</td>\n",
       "      <td>7.6</td>\n",
       "      <td>1.4</td>\n",
       "      <td>small</td>\n",
       "    </tr>\n",
       "  </tbody>\n",
       "</table>\n",
       "</div>"
      ],
      "text/plain": [
       "     month  day  FFMC    DMC     DC       ISI  temp  RH  wind  rain   size\n",
       "3        0    0  91.7   33.3   77.5  2.197225   8.3  97   4.0   0.2  small\n",
       "232      1    3  91.8  175.1  700.7  2.624669  21.9  73   7.6   1.0  small\n",
       "275      0    6  91.2  183.1  437.7  2.525729  12.6  90   7.6   0.2  small\n",
       "479      1    5  96.1  181.1  671.2  2.660260  27.3  63   4.9   6.4  large\n",
       "480      1    5  96.1  181.1  671.2  2.660260  21.6  65   4.9   0.8  small\n",
       "481      1    5  96.1  181.1  671.2  2.660260  20.7  69   4.9   0.4  small\n",
       "487      1    0  91.0  166.9  752.6  1.960095  21.1  71   7.6   1.4  small"
      ]
     },
     "execution_count": 30,
     "metadata": {},
     "output_type": "execute_result"
    }
   ],
   "source": [
    "X[X['rain']>0]\n",
    "# Removing outlier (rain == 6.4) and categorizing data to rain and no_rain (since data has more 0's)"
   ]
  },
  {
   "cell_type": "code",
   "execution_count": 31,
   "id": "b5b95ca5",
   "metadata": {},
   "outputs": [],
   "source": [
    "X= X.drop(index=[479] , axis=0 ).reset_index(drop=True)"
   ]
  },
  {
   "cell_type": "code",
   "execution_count": 32,
   "id": "9fca110c",
   "metadata": {},
   "outputs": [],
   "source": [
    "X['rain'] = X.rain.map(lambda x : 1 if x > 0 else 0)"
   ]
  },
  {
   "cell_type": "code",
   "execution_count": 33,
   "id": "514f4efe",
   "metadata": {},
   "outputs": [],
   "source": [
    "x = X.iloc[: ,0:10]\n",
    "y = X.iloc[: ,-1]"
   ]
  },
  {
   "cell_type": "markdown",
   "id": "f3ea2be6",
   "metadata": {},
   "source": [
    "# Scaling"
   ]
  },
  {
   "cell_type": "code",
   "execution_count": 34,
   "id": "b8bad60f",
   "metadata": {},
   "outputs": [],
   "source": [
    "from sklearn.preprocessing import StandardScaler"
   ]
  },
  {
   "cell_type": "code",
   "execution_count": 35,
   "id": "0e68aaee",
   "metadata": {},
   "outputs": [],
   "source": [
    "scaler = StandardScaler()"
   ]
  },
  {
   "cell_type": "code",
   "execution_count": 36,
   "id": "a7303ec5",
   "metadata": {},
   "outputs": [
    {
     "data": {
      "text/plain": [
       "array([[-1.52529689e+00, -1.40342058e+00, -1.98148499e+00, ...,\n",
       "         4.65090673e-01,  1.50270702e+00, -1.11455643e-01],\n",
       "       [-1.52529689e+00,  1.17655184e+00, -2.96361234e-01, ...,\n",
       "        -6.73320925e-01, -1.72802194e+00, -1.11455643e-01],\n",
       "       [-1.52529689e+00, -3.71431613e-01, -2.96361234e-01, ...,\n",
       "        -6.73320925e-01, -1.50521305e+00, -1.11455643e-01],\n",
       "       ...,\n",
       "       [ 6.55610068e-01, -1.40342058e+00, -1.43168165e-01, ...,\n",
       "         1.72999245e+00,  2.00402703e+00,  8.97217922e+00],\n",
       "       [ 6.55610068e-01, -1.40342058e+00, -1.43168165e-01, ...,\n",
       "         1.16078665e+00,  7.78578112e-01, -1.11455643e-01],\n",
       "       [ 6.55610068e-01, -3.71431613e-01,  1.15897292e+00, ...,\n",
       "        -1.04115126e-01, -1.25301525e-03, -1.11455643e-01]])"
      ]
     },
     "execution_count": 36,
     "metadata": {},
     "output_type": "execute_result"
    }
   ],
   "source": [
    "Forest  = scaler.fit_transform(x)\n",
    "Forest"
   ]
  },
  {
   "cell_type": "code",
   "execution_count": 37,
   "id": "ad380e64",
   "metadata": {},
   "outputs": [
    {
     "data": {
      "text/html": [
       "<div>\n",
       "<style scoped>\n",
       "    .dataframe tbody tr th:only-of-type {\n",
       "        vertical-align: middle;\n",
       "    }\n",
       "\n",
       "    .dataframe tbody tr th {\n",
       "        vertical-align: top;\n",
       "    }\n",
       "\n",
       "    .dataframe thead th {\n",
       "        text-align: right;\n",
       "    }\n",
       "</style>\n",
       "<table border=\"1\" class=\"dataframe\">\n",
       "  <thead>\n",
       "    <tr style=\"text-align: right;\">\n",
       "      <th></th>\n",
       "      <th>month</th>\n",
       "      <th>day</th>\n",
       "      <th>FFMC</th>\n",
       "      <th>DMC</th>\n",
       "      <th>DC</th>\n",
       "      <th>ISI</th>\n",
       "      <th>temp</th>\n",
       "      <th>RH</th>\n",
       "      <th>wind</th>\n",
       "      <th>rain</th>\n",
       "    </tr>\n",
       "  </thead>\n",
       "  <tbody>\n",
       "    <tr>\n",
       "      <th>0</th>\n",
       "      <td>-1.525297</td>\n",
       "      <td>-1.403421</td>\n",
       "      <td>-1.981485</td>\n",
       "      <td>-1.384587</td>\n",
       "      <td>-1.914652</td>\n",
       "      <td>-1.110723</td>\n",
       "      <td>-1.909508</td>\n",
       "      <td>0.465091</td>\n",
       "      <td>1.502707</td>\n",
       "      <td>-0.111456</td>\n",
       "    </tr>\n",
       "    <tr>\n",
       "      <th>1</th>\n",
       "      <td>-1.525297</td>\n",
       "      <td>1.176552</td>\n",
       "      <td>-0.296361</td>\n",
       "      <td>-1.238055</td>\n",
       "      <td>0.464576</td>\n",
       "      <td>-0.507917</td>\n",
       "      <td>-0.180310</td>\n",
       "      <td>-0.673321</td>\n",
       "      <td>-1.728022</td>\n",
       "      <td>-0.111456</td>\n",
       "    </tr>\n",
       "    <tr>\n",
       "      <th>2</th>\n",
       "      <td>-1.525297</td>\n",
       "      <td>-0.371432</td>\n",
       "      <td>-0.296361</td>\n",
       "      <td>-1.105857</td>\n",
       "      <td>0.538254</td>\n",
       "      <td>-0.507917</td>\n",
       "      <td>-0.780236</td>\n",
       "      <td>-0.673321</td>\n",
       "      <td>-1.505213</td>\n",
       "      <td>-0.111456</td>\n",
       "    </tr>\n",
       "    <tr>\n",
       "      <th>3</th>\n",
       "      <td>-1.525297</td>\n",
       "      <td>-1.403421</td>\n",
       "      <td>0.124920</td>\n",
       "      <td>-1.271502</td>\n",
       "      <td>-1.984191</td>\n",
       "      <td>0.144042</td>\n",
       "      <td>-1.891863</td>\n",
       "      <td>3.374365</td>\n",
       "      <td>-0.001253</td>\n",
       "      <td>8.972179</td>\n",
       "    </tr>\n",
       "    <tr>\n",
       "      <th>4</th>\n",
       "      <td>-1.525297</td>\n",
       "      <td>0.144563</td>\n",
       "      <td>-0.794239</td>\n",
       "      <td>-0.984809</td>\n",
       "      <td>-1.881952</td>\n",
       "      <td>0.286618</td>\n",
       "      <td>-1.344872</td>\n",
       "      <td>3.500855</td>\n",
       "      <td>-1.226702</td>\n",
       "      <td>-0.111456</td>\n",
       "    </tr>\n",
       "    <tr>\n",
       "      <th>...</th>\n",
       "      <td>...</td>\n",
       "      <td>...</td>\n",
       "      <td>...</td>\n",
       "      <td>...</td>\n",
       "      <td>...</td>\n",
       "      <td>...</td>\n",
       "      <td>...</td>\n",
       "      <td>...</td>\n",
       "      <td>...</td>\n",
       "      <td>...</td>\n",
       "    </tr>\n",
       "    <tr>\n",
       "      <th>484</th>\n",
       "      <td>0.655610</td>\n",
       "      <td>-1.403421</td>\n",
       "      <td>-0.143168</td>\n",
       "      <td>0.856399</td>\n",
       "      <td>0.810202</td>\n",
       "      <td>-0.379815</td>\n",
       "      <td>-0.092085</td>\n",
       "      <td>1.856483</td>\n",
       "      <td>2.505347</td>\n",
       "      <td>-0.111456</td>\n",
       "    </tr>\n",
       "    <tr>\n",
       "      <th>485</th>\n",
       "      <td>0.655610</td>\n",
       "      <td>-1.403421</td>\n",
       "      <td>-0.143168</td>\n",
       "      <td>0.856399</td>\n",
       "      <td>0.810202</td>\n",
       "      <td>-0.379815</td>\n",
       "      <td>1.213636</td>\n",
       "      <td>-0.167360</td>\n",
       "      <td>-0.224062</td>\n",
       "      <td>-0.111456</td>\n",
       "    </tr>\n",
       "    <tr>\n",
       "      <th>486</th>\n",
       "      <td>0.655610</td>\n",
       "      <td>-1.403421</td>\n",
       "      <td>-0.143168</td>\n",
       "      <td>0.856399</td>\n",
       "      <td>0.810202</td>\n",
       "      <td>-0.379815</td>\n",
       "      <td>0.366681</td>\n",
       "      <td>1.729992</td>\n",
       "      <td>2.004027</td>\n",
       "      <td>8.972179</td>\n",
       "    </tr>\n",
       "    <tr>\n",
       "      <th>487</th>\n",
       "      <td>0.655610</td>\n",
       "      <td>-1.403421</td>\n",
       "      <td>-0.143168</td>\n",
       "      <td>0.856399</td>\n",
       "      <td>0.810202</td>\n",
       "      <td>-0.379815</td>\n",
       "      <td>-0.145020</td>\n",
       "      <td>1.160787</td>\n",
       "      <td>0.778578</td>\n",
       "      <td>-0.111456</td>\n",
       "    </tr>\n",
       "    <tr>\n",
       "      <th>488</th>\n",
       "      <td>0.655610</td>\n",
       "      <td>-0.371432</td>\n",
       "      <td>1.158973</td>\n",
       "      <td>0.523517</td>\n",
       "      <td>0.239402</td>\n",
       "      <td>0.646798</td>\n",
       "      <td>1.160701</td>\n",
       "      <td>-0.104115</td>\n",
       "      <td>-0.001253</td>\n",
       "      <td>-0.111456</td>\n",
       "    </tr>\n",
       "  </tbody>\n",
       "</table>\n",
       "<p>489 rows × 10 columns</p>\n",
       "</div>"
      ],
      "text/plain": [
       "        month       day      FFMC       DMC        DC       ISI      temp  \\\n",
       "0   -1.525297 -1.403421 -1.981485 -1.384587 -1.914652 -1.110723 -1.909508   \n",
       "1   -1.525297  1.176552 -0.296361 -1.238055  0.464576 -0.507917 -0.180310   \n",
       "2   -1.525297 -0.371432 -0.296361 -1.105857  0.538254 -0.507917 -0.780236   \n",
       "3   -1.525297 -1.403421  0.124920 -1.271502 -1.984191  0.144042 -1.891863   \n",
       "4   -1.525297  0.144563 -0.794239 -0.984809 -1.881952  0.286618 -1.344872   \n",
       "..        ...       ...       ...       ...       ...       ...       ...   \n",
       "484  0.655610 -1.403421 -0.143168  0.856399  0.810202 -0.379815 -0.092085   \n",
       "485  0.655610 -1.403421 -0.143168  0.856399  0.810202 -0.379815  1.213636   \n",
       "486  0.655610 -1.403421 -0.143168  0.856399  0.810202 -0.379815  0.366681   \n",
       "487  0.655610 -1.403421 -0.143168  0.856399  0.810202 -0.379815 -0.145020   \n",
       "488  0.655610 -0.371432  1.158973  0.523517  0.239402  0.646798  1.160701   \n",
       "\n",
       "           RH      wind      rain  \n",
       "0    0.465091  1.502707 -0.111456  \n",
       "1   -0.673321 -1.728022 -0.111456  \n",
       "2   -0.673321 -1.505213 -0.111456  \n",
       "3    3.374365 -0.001253  8.972179  \n",
       "4    3.500855 -1.226702 -0.111456  \n",
       "..        ...       ...       ...  \n",
       "484  1.856483  2.505347 -0.111456  \n",
       "485 -0.167360 -0.224062 -0.111456  \n",
       "486  1.729992  2.004027  8.972179  \n",
       "487  1.160787  0.778578 -0.111456  \n",
       "488 -0.104115 -0.001253 -0.111456  \n",
       "\n",
       "[489 rows x 10 columns]"
      ]
     },
     "execution_count": 37,
     "metadata": {},
     "output_type": "execute_result"
    }
   ],
   "source": [
    "Forest = pd.DataFrame(Forest,columns=x.columns)\n",
    "Forest\n",
    "# Scaled data frame"
   ]
  },
  {
   "cell_type": "code",
   "execution_count": 38,
   "id": "d1849cbb",
   "metadata": {},
   "outputs": [],
   "source": [
    "y = y.map(lambda x : 1 if x == 'large' else 0)"
   ]
  },
  {
   "cell_type": "code",
   "execution_count": 39,
   "id": "f08d4721",
   "metadata": {},
   "outputs": [
    {
     "data": {
      "text/plain": [
       "0      0\n",
       "1      0\n",
       "2      0\n",
       "3      0\n",
       "4      0\n",
       "      ..\n",
       "484    0\n",
       "485    0\n",
       "486    0\n",
       "487    0\n",
       "488    0\n",
       "Name: size, Length: 489, dtype: int64"
      ]
     },
     "execution_count": 39,
     "metadata": {},
     "output_type": "execute_result"
    }
   ],
   "source": [
    "y"
   ]
  },
  {
   "cell_type": "code",
   "execution_count": 40,
   "id": "1e788213",
   "metadata": {},
   "outputs": [
    {
     "name": "stdout",
     "output_type": "stream",
     "text": [
      "0    358\n",
      "1    131\n",
      "Name: size, dtype: int64\n"
     ]
    },
    {
     "data": {
      "text/plain": [
       "<AxesSubplot:xlabel='size', ylabel='Count'>"
      ]
     },
     "execution_count": 40,
     "metadata": {},
     "output_type": "execute_result"
    },
    {
     "data": {
      "image/png": "[encoded data removed]",
      "text/plain": [
       "<Figure size 432x288 with 1 Axes>"
      ]
     },
     "metadata": {
      "needs_background": "light"
     },
     "output_type": "display_data"
    }
   ],
   "source": [
    "print(y.value_counts())\n",
    "sns.histplot(y)\n",
    "# 358 Small fires and 131 large fires"
   ]
  },
  {
   "cell_type": "code",
   "execution_count": 45,
   "id": "1a8804f9",
   "metadata": {},
   "outputs": [],
   "source": [
    "from sklearn.model_selection import train_test_split, cross_val_score"
   ]
  },
  {
   "cell_type": "code",
   "execution_count": 51,
   "id": "814b6b31",
   "metadata": {},
   "outputs": [],
   "source": [
    "X_train, X_test, y_train, y_test = train_test_split(Forest,y, test_size = 0.25)"
   ]
  },
  {
   "cell_type": "markdown",
   "id": "73f0dd81",
   "metadata": {},
   "source": [
    "# Model "
   ]
  },
  {
   "cell_type": "code",
   "execution_count": 42,
   "id": "02e0c938",
   "metadata": {},
   "outputs": [],
   "source": [
    "import tensorflow as tensorflow\n",
    "from keras.models import Sequential\n",
    "from keras.layers import Dense, Dropout\n",
    "from tensorflow import keras\n",
    "from tensorflow.keras import layers\n",
    "from tensorflow.keras.optimizers import SGD\n",
    "from tensorflow.keras.utils import to_categorical\n",
    "from keras.callbacks import EarlyStopping\n",
    "from keras.callbacks import ModelCheckpoint\n",
    "from keras.utils.vis_utils import plot_model"
   ]
  },
  {
   "cell_type": "code",
   "execution_count": 41,
   "id": "70617992",
   "metadata": {},
   "outputs": [],
   "source": [
    "#1  layer\n",
    "#2 hidden layers\n",
    "#4 dropout layer\n",
    "#5 output layer"
   ]
  },
  {
   "cell_type": "code",
   "execution_count": 55,
   "id": "9c8621ae",
   "metadata": {},
   "outputs": [
    {
     "name": "stdout",
     "output_type": "stream",
     "text": [
      "Model: \"sequential_3\"\n",
      "_________________________________________________________________\n",
      " Layer (type)                Output Shape              Param #   \n",
      "=================================================================\n",
      " dense_12 (Dense)            (None, 6)                 66        \n",
      "                                                                 \n",
      " dense_13 (Dense)            (None, 6)                 42        \n",
      "                                                                 \n",
      " dense_14 (Dense)            (None, 6)                 42        \n",
      "                                                                 \n",
      " dropout_3 (Dropout)         (None, 6)                 0         \n",
      "                                                                 \n",
      " dense_15 (Dense)            (None, 1)                 7         \n",
      "                                                                 \n",
      "=================================================================\n",
      "Total params: 157\n",
      "Trainable params: 157\n",
      "Non-trainable params: 0\n",
      "_________________________________________________________________\n"
     ]
    }
   ],
   "source": [
    "model = Sequential()\n",
    "# input layer + 1st hidden layer\n",
    "model.add(Dense(6, input_dim=10, activation='relu'))\n",
    "# 2nd hidden layer\n",
    "model.add(Dense(6, activation='relu'))\n",
    "# output layer\n",
    "model.add(Dense(6, activation='sigmoid'))\n",
    "model.add(Dropout(0.2))\n",
    "model.add(Dense(1, activation = 'relu'))\n",
    "model.summary()"
   ]
  },
  {
   "cell_type": "code",
   "execution_count": 56,
   "id": "d76d5f29",
   "metadata": {},
   "outputs": [
    {
     "name": "stdout",
     "output_type": "stream",
     "text": [
      "Epoch 1/100\n",
      "37/37 [==============================] - 1s 11ms/step - loss: 3.9526 - accuracy: 0.7322 - val_loss: 4.0130 - val_accuracy: 0.7398\n",
      "Epoch 2/100\n",
      "37/37 [==============================] - 0s 3ms/step - loss: 4.0345 - accuracy: 0.7268 - val_loss: 4.0130 - val_accuracy: 0.7398\n",
      "Epoch 3/100\n",
      "37/37 [==============================] - 0s 4ms/step - loss: 3.9093 - accuracy: 0.7268 - val_loss: 4.0130 - val_accuracy: 0.7398\n",
      "Epoch 4/100\n",
      "37/37 [==============================] - 0s 3ms/step - loss: 3.9848 - accuracy: 0.7295 - val_loss: 4.0130 - val_accuracy: 0.7398\n",
      "Epoch 5/100\n",
      "37/37 [==============================] - 0s 4ms/step - loss: 3.8800 - accuracy: 0.7268 - val_loss: 4.0130 - val_accuracy: 0.7398\n",
      "Epoch 6/100\n",
      "37/37 [==============================] - 0s 3ms/step - loss: 3.7125 - accuracy: 0.7240 - val_loss: 4.0130 - val_accuracy: 0.7398\n",
      "Epoch 7/100\n",
      "37/37 [==============================] - 0s 4ms/step - loss: 3.5272 - accuracy: 0.7240 - val_loss: 4.0130 - val_accuracy: 0.7398\n",
      "Epoch 8/100\n",
      "37/37 [==============================] - 0s 7ms/step - loss: 3.5517 - accuracy: 0.7295 - val_loss: 4.0130 - val_accuracy: 0.7398\n",
      "Epoch 9/100\n",
      "37/37 [==============================] - 0s 3ms/step - loss: 3.4353 - accuracy: 0.7186 - val_loss: 4.0130 - val_accuracy: 0.7398\n",
      "Epoch 10/100\n",
      "37/37 [==============================] - 0s 4ms/step - loss: 3.5896 - accuracy: 0.7240 - val_loss: 4.0130 - val_accuracy: 0.7398\n",
      "Epoch 11/100\n",
      "37/37 [==============================] - 0s 3ms/step - loss: 3.0646 - accuracy: 0.7295 - val_loss: 4.0130 - val_accuracy: 0.7398\n",
      "Epoch 12/100\n",
      "37/37 [==============================] - 0s 3ms/step - loss: 3.3538 - accuracy: 0.7322 - val_loss: 4.0130 - val_accuracy: 0.7398\n",
      "Epoch 13/100\n",
      "37/37 [==============================] - 0s 5ms/step - loss: 3.3052 - accuracy: 0.7104 - val_loss: 4.0130 - val_accuracy: 0.7398\n",
      "Epoch 14/100\n",
      "37/37 [==============================] - 0s 7ms/step - loss: 3.0642 - accuracy: 0.7268 - val_loss: 4.0130 - val_accuracy: 0.7398\n",
      "Epoch 15/100\n",
      "37/37 [==============================] - 0s 3ms/step - loss: 3.2549 - accuracy: 0.7213 - val_loss: 4.0130 - val_accuracy: 0.7398\n",
      "Epoch 16/100\n",
      "37/37 [==============================] - 0s 4ms/step - loss: 3.2931 - accuracy: 0.7158 - val_loss: 4.0130 - val_accuracy: 0.7398\n",
      "Epoch 17/100\n",
      "37/37 [==============================] - 0s 4ms/step - loss: 3.1765 - accuracy: 0.7322 - val_loss: 4.0130 - val_accuracy: 0.7398\n",
      "Epoch 18/100\n",
      "37/37 [==============================] - 0s 3ms/step - loss: 3.4561 - accuracy: 0.7022 - val_loss: 4.0130 - val_accuracy: 0.7398\n",
      "Epoch 19/100\n",
      "37/37 [==============================] - 0s 6ms/step - loss: 3.2713 - accuracy: 0.7158 - val_loss: 4.0130 - val_accuracy: 0.7398\n",
      "Epoch 20/100\n",
      "37/37 [==============================] - 0s 5ms/step - loss: 3.0254 - accuracy: 0.7131 - val_loss: 4.0130 - val_accuracy: 0.7398\n",
      "Epoch 21/100\n",
      "37/37 [==============================] - 0s 3ms/step - loss: 3.4684 - accuracy: 0.7131 - val_loss: 4.0130 - val_accuracy: 0.7398\n",
      "Epoch 22/100\n",
      "37/37 [==============================] - 0s 3ms/step - loss: 2.9664 - accuracy: 0.7158 - val_loss: 4.0130 - val_accuracy: 0.7398\n",
      "Epoch 23/100\n",
      "37/37 [==============================] - 0s 3ms/step - loss: 3.1116 - accuracy: 0.7213 - val_loss: 4.0130 - val_accuracy: 0.7398\n",
      "Epoch 24/100\n",
      "37/37 [==============================] - 0s 5ms/step - loss: 3.5096 - accuracy: 0.7186 - val_loss: 4.0130 - val_accuracy: 0.7398\n",
      "Epoch 25/100\n",
      "37/37 [==============================] - 0s 4ms/step - loss: 3.0888 - accuracy: 0.7104 - val_loss: 4.0130 - val_accuracy: 0.7398\n",
      "Epoch 26/100\n",
      "37/37 [==============================] - 0s 3ms/step - loss: 3.0618 - accuracy: 0.7350 - val_loss: 4.0130 - val_accuracy: 0.7398\n",
      "Epoch 27/100\n",
      "37/37 [==============================] - 0s 3ms/step - loss: 2.9947 - accuracy: 0.7077 - val_loss: 3.9239 - val_accuracy: 0.7398\n",
      "Epoch 28/100\n",
      "37/37 [==============================] - 0s 4ms/step - loss: 2.7718 - accuracy: 0.7022 - val_loss: 3.7529 - val_accuracy: 0.7398\n",
      "Epoch 29/100\n",
      "37/37 [==============================] - 0s 7ms/step - loss: 3.0581 - accuracy: 0.7240 - val_loss: 3.4143 - val_accuracy: 0.7398\n",
      "Epoch 30/100\n",
      "37/37 [==============================] - 0s 4ms/step - loss: 2.5335 - accuracy: 0.7350 - val_loss: 3.0972 - val_accuracy: 0.7398\n",
      "Epoch 31/100\n",
      "37/37 [==============================] - 0s 3ms/step - loss: 2.3059 - accuracy: 0.7131 - val_loss: 1.8579 - val_accuracy: 0.7398\n",
      "Epoch 32/100\n",
      "37/37 [==============================] - 0s 4ms/step - loss: 2.1425 - accuracy: 0.6858 - val_loss: 1.1560 - val_accuracy: 0.7398\n",
      "Epoch 33/100\n",
      "37/37 [==============================] - 0s 4ms/step - loss: 1.8250 - accuracy: 0.7077 - val_loss: 1.0174 - val_accuracy: 0.7398\n",
      "Epoch 34/100\n",
      "37/37 [==============================] - 0s 4ms/step - loss: 1.3444 - accuracy: 0.6803 - val_loss: 0.9136 - val_accuracy: 0.7398\n",
      "Epoch 35/100\n",
      "37/37 [==============================] - 0s 5ms/step - loss: 1.3530 - accuracy: 0.6831 - val_loss: 0.7731 - val_accuracy: 0.7398\n",
      "Epoch 36/100\n",
      "37/37 [==============================] - 0s 4ms/step - loss: 1.4511 - accuracy: 0.7186 - val_loss: 0.6628 - val_accuracy: 0.7398\n",
      "Epoch 37/100\n",
      "37/37 [==============================] - 0s 3ms/step - loss: 1.5263 - accuracy: 0.6749 - val_loss: 0.6413 - val_accuracy: 0.7398\n",
      "Epoch 38/100\n",
      "37/37 [==============================] - 0s 3ms/step - loss: 1.2223 - accuracy: 0.6503 - val_loss: 0.6233 - val_accuracy: 0.7398\n",
      "Epoch 39/100\n",
      "37/37 [==============================] - 0s 3ms/step - loss: 1.4651 - accuracy: 0.6776 - val_loss: 0.6207 - val_accuracy: 0.7398\n",
      "Epoch 40/100\n",
      "37/37 [==============================] - 0s 3ms/step - loss: 1.4124 - accuracy: 0.6885 - val_loss: 0.6178 - val_accuracy: 0.7398\n",
      "Epoch 41/100\n",
      "37/37 [==============================] - 0s 3ms/step - loss: 1.5452 - accuracy: 0.6393 - val_loss: 0.6159 - val_accuracy: 0.7398\n",
      "Epoch 42/100\n",
      "37/37 [==============================] - 0s 3ms/step - loss: 1.3289 - accuracy: 0.6721 - val_loss: 0.6146 - val_accuracy: 0.7398\n",
      "Epoch 43/100\n",
      "37/37 [==============================] - 0s 3ms/step - loss: 1.2822 - accuracy: 0.6803 - val_loss: 0.6122 - val_accuracy: 0.7398\n",
      "Epoch 44/100\n",
      "37/37 [==============================] - 0s 3ms/step - loss: 1.4641 - accuracy: 0.6503 - val_loss: 0.6121 - val_accuracy: 0.7398\n",
      "Epoch 45/100\n",
      "37/37 [==============================] - 0s 7ms/step - loss: 1.4403 - accuracy: 0.6694 - val_loss: 0.6105 - val_accuracy: 0.7398\n",
      "Epoch 46/100\n",
      "37/37 [==============================] - 0s 4ms/step - loss: 1.4189 - accuracy: 0.6639 - val_loss: 0.6094 - val_accuracy: 0.7398\n",
      "Epoch 47/100\n",
      "37/37 [==============================] - 0s 3ms/step - loss: 1.5586 - accuracy: 0.6557 - val_loss: 0.6103 - val_accuracy: 0.7398\n",
      "Epoch 48/100\n",
      "37/37 [==============================] - 0s 3ms/step - loss: 1.1689 - accuracy: 0.6967 - val_loss: 0.6085 - val_accuracy: 0.7398\n",
      "Epoch 49/100\n",
      "37/37 [==============================] - 0s 4ms/step - loss: 1.5290 - accuracy: 0.6503 - val_loss: 0.6083 - val_accuracy: 0.7398\n",
      "Epoch 50/100\n",
      "37/37 [==============================] - 0s 3ms/step - loss: 1.3991 - accuracy: 0.6803 - val_loss: 0.6079 - val_accuracy: 0.7398\n",
      "Epoch 51/100\n",
      "37/37 [==============================] - 0s 3ms/step - loss: 1.2373 - accuracy: 0.6612 - val_loss: 0.6078 - val_accuracy: 0.7398\n",
      "Epoch 52/100\n",
      "37/37 [==============================] - 0s 4ms/step - loss: 1.1868 - accuracy: 0.6913 - val_loss: 0.6054 - val_accuracy: 0.7398\n",
      "Epoch 53/100\n",
      "37/37 [==============================] - 0s 3ms/step - loss: 1.3528 - accuracy: 0.6448 - val_loss: 0.6042 - val_accuracy: 0.7398\n",
      "Epoch 54/100\n",
      "37/37 [==============================] - 0s 3ms/step - loss: 1.6596 - accuracy: 0.6530 - val_loss: 0.6048 - val_accuracy: 0.7398\n",
      "Epoch 55/100\n",
      "37/37 [==============================] - 0s 3ms/step - loss: 1.2171 - accuracy: 0.6639 - val_loss: 0.6038 - val_accuracy: 0.7398\n",
      "Epoch 56/100\n",
      "37/37 [==============================] - 0s 3ms/step - loss: 1.4956 - accuracy: 0.6858 - val_loss: 0.6035 - val_accuracy: 0.7398\n",
      "Epoch 57/100\n",
      "37/37 [==============================] - 0s 4ms/step - loss: 1.0684 - accuracy: 0.6667 - val_loss: 0.6018 - val_accuracy: 0.7398\n",
      "Epoch 58/100\n",
      "37/37 [==============================] - 0s 4ms/step - loss: 1.1446 - accuracy: 0.6694 - val_loss: 0.6026 - val_accuracy: 0.7398\n"
     ]
    },
    {
     "name": "stdout",
     "output_type": "stream",
     "text": [
      "Epoch 59/100\n",
      "37/37 [==============================] - 0s 5ms/step - loss: 1.2147 - accuracy: 0.6284 - val_loss: 0.6033 - val_accuracy: 0.7398\n",
      "Epoch 60/100\n",
      "37/37 [==============================] - 0s 4ms/step - loss: 1.4540 - accuracy: 0.6749 - val_loss: 0.6034 - val_accuracy: 0.7398\n",
      "Epoch 61/100\n",
      "37/37 [==============================] - 0s 3ms/step - loss: 1.4695 - accuracy: 0.6366 - val_loss: 0.6040 - val_accuracy: 0.7398\n",
      "Epoch 62/100\n",
      "37/37 [==============================] - 0s 4ms/step - loss: 1.5899 - accuracy: 0.7077 - val_loss: 0.6042 - val_accuracy: 0.7398\n",
      "Epoch 63/100\n",
      "37/37 [==============================] - 0s 3ms/step - loss: 1.2273 - accuracy: 0.6585 - val_loss: 0.6035 - val_accuracy: 0.7398\n",
      "Epoch 64/100\n",
      "37/37 [==============================] - 0s 3ms/step - loss: 0.9755 - accuracy: 0.6995 - val_loss: 0.6017 - val_accuracy: 0.7398\n",
      "Epoch 65/100\n",
      "37/37 [==============================] - 0s 3ms/step - loss: 1.3056 - accuracy: 0.6448 - val_loss: 0.6022 - val_accuracy: 0.7398\n",
      "Epoch 66/100\n",
      "37/37 [==============================] - 0s 3ms/step - loss: 1.6312 - accuracy: 0.6448 - val_loss: 0.6033 - val_accuracy: 0.7398\n",
      "Epoch 67/100\n",
      "37/37 [==============================] - 0s 3ms/step - loss: 1.5173 - accuracy: 0.6694 - val_loss: 0.6046 - val_accuracy: 0.7398\n",
      "Epoch 68/100\n",
      "37/37 [==============================] - 0s 3ms/step - loss: 1.4789 - accuracy: 0.6667 - val_loss: 0.6038 - val_accuracy: 0.7398\n",
      "Epoch 69/100\n",
      "37/37 [==============================] - 0s 3ms/step - loss: 1.1297 - accuracy: 0.6694 - val_loss: 0.6032 - val_accuracy: 0.7398\n",
      "Epoch 70/100\n",
      "37/37 [==============================] - 0s 3ms/step - loss: 1.3468 - accuracy: 0.6557 - val_loss: 0.6016 - val_accuracy: 0.7398\n",
      "Epoch 71/100\n",
      "37/37 [==============================] - 0s 3ms/step - loss: 1.4027 - accuracy: 0.6721 - val_loss: 0.6019 - val_accuracy: 0.7398\n",
      "Epoch 72/100\n",
      "37/37 [==============================] - 0s 4ms/step - loss: 1.1654 - accuracy: 0.6913 - val_loss: 0.6023 - val_accuracy: 0.7398\n",
      "Epoch 73/100\n",
      "37/37 [==============================] - 0s 3ms/step - loss: 1.3599 - accuracy: 0.6940 - val_loss: 0.6004 - val_accuracy: 0.7398\n",
      "Epoch 74/100\n",
      "37/37 [==============================] - 0s 3ms/step - loss: 1.2739 - accuracy: 0.6940 - val_loss: 0.6000 - val_accuracy: 0.7398\n",
      "Epoch 75/100\n",
      "37/37 [==============================] - 0s 3ms/step - loss: 1.1548 - accuracy: 0.7022 - val_loss: 0.5993 - val_accuracy: 0.7398\n",
      "Epoch 76/100\n",
      "37/37 [==============================] - 0s 4ms/step - loss: 1.3238 - accuracy: 0.6831 - val_loss: 0.5996 - val_accuracy: 0.7398\n",
      "Epoch 77/100\n",
      "37/37 [==============================] - 0s 3ms/step - loss: 1.2108 - accuracy: 0.6967 - val_loss: 0.5989 - val_accuracy: 0.7398\n",
      "Epoch 78/100\n",
      "37/37 [==============================] - 0s 4ms/step - loss: 1.1729 - accuracy: 0.6667 - val_loss: 0.5991 - val_accuracy: 0.7398\n",
      "Epoch 79/100\n",
      "37/37 [==============================] - 0s 3ms/step - loss: 1.4884 - accuracy: 0.6803 - val_loss: 0.5997 - val_accuracy: 0.7398\n",
      "Epoch 80/100\n",
      "37/37 [==============================] - 0s 3ms/step - loss: 1.3575 - accuracy: 0.6612 - val_loss: 0.5988 - val_accuracy: 0.7398\n",
      "Epoch 81/100\n",
      "37/37 [==============================] - 0s 4ms/step - loss: 1.5271 - accuracy: 0.6612 - val_loss: 0.5994 - val_accuracy: 0.7398\n",
      "Epoch 82/100\n",
      "37/37 [==============================] - 0s 4ms/step - loss: 1.3324 - accuracy: 0.6885 - val_loss: 0.5991 - val_accuracy: 0.7398\n",
      "Epoch 83/100\n",
      "37/37 [==============================] - 0s 4ms/step - loss: 1.1667 - accuracy: 0.6721 - val_loss: 0.5982 - val_accuracy: 0.7398\n",
      "Epoch 84/100\n",
      "37/37 [==============================] - 0s 3ms/step - loss: 1.1140 - accuracy: 0.6967 - val_loss: 0.5960 - val_accuracy: 0.7398\n",
      "Epoch 85/100\n",
      "37/37 [==============================] - 0s 3ms/step - loss: 1.3528 - accuracy: 0.6967 - val_loss: 0.5966 - val_accuracy: 0.7398\n",
      "Epoch 86/100\n",
      "37/37 [==============================] - 0s 3ms/step - loss: 1.1784 - accuracy: 0.7268 - val_loss: 0.5964 - val_accuracy: 0.7398\n",
      "Epoch 87/100\n",
      "37/37 [==============================] - 0s 3ms/step - loss: 1.4489 - accuracy: 0.7049 - val_loss: 0.5976 - val_accuracy: 0.7398\n",
      "Epoch 88/100\n",
      "37/37 [==============================] - 0s 3ms/step - loss: 1.2978 - accuracy: 0.6721 - val_loss: 0.5968 - val_accuracy: 0.7398\n",
      "Epoch 89/100\n",
      "37/37 [==============================] - 0s 3ms/step - loss: 1.1154 - accuracy: 0.7104 - val_loss: 0.5958 - val_accuracy: 0.7398\n",
      "Epoch 90/100\n",
      "37/37 [==============================] - 0s 3ms/step - loss: 1.0411 - accuracy: 0.7131 - val_loss: 0.5923 - val_accuracy: 0.7398\n",
      "Epoch 91/100\n",
      "37/37 [==============================] - 0s 3ms/step - loss: 1.4138 - accuracy: 0.7158 - val_loss: 0.5896 - val_accuracy: 0.7398\n",
      "Epoch 92/100\n",
      "37/37 [==============================] - 0s 3ms/step - loss: 1.3588 - accuracy: 0.7158 - val_loss: 0.5894 - val_accuracy: 0.7398\n",
      "Epoch 93/100\n",
      "37/37 [==============================] - 0s 4ms/step - loss: 1.1779 - accuracy: 0.7077 - val_loss: 0.5857 - val_accuracy: 0.7398\n",
      "Epoch 94/100\n",
      "37/37 [==============================] - 0s 4ms/step - loss: 1.1874 - accuracy: 0.7049 - val_loss: 0.5859 - val_accuracy: 0.7398\n",
      "Epoch 95/100\n",
      "37/37 [==============================] - 0s 4ms/step - loss: 1.5050 - accuracy: 0.7268 - val_loss: 0.5897 - val_accuracy: 0.7398\n",
      "Epoch 96/100\n",
      "37/37 [==============================] - 0s 3ms/step - loss: 1.2313 - accuracy: 0.7022 - val_loss: 0.5892 - val_accuracy: 0.7398\n",
      "Epoch 97/100\n",
      "37/37 [==============================] - 0s 3ms/step - loss: 1.3193 - accuracy: 0.7022 - val_loss: 0.5907 - val_accuracy: 0.7398\n",
      "Epoch 98/100\n",
      "37/37 [==============================] - 0s 3ms/step - loss: 1.1387 - accuracy: 0.7158 - val_loss: 0.5855 - val_accuracy: 0.7398\n",
      "Epoch 99/100\n",
      "37/37 [==============================] - 0s 3ms/step - loss: 1.1288 - accuracy: 0.7213 - val_loss: 0.5853 - val_accuracy: 0.7398\n",
      "Epoch 100/100\n",
      "37/37 [==============================] - 0s 4ms/step - loss: 1.3966 - accuracy: 0.7213 - val_loss: 0.5874 - val_accuracy: 0.7398\n"
     ]
    }
   ],
   "source": [
    "# Compile Model\n",
    "model.compile(optimizer = 'adam', metrics=['accuracy'], loss ='binary_crossentropy')\n",
    "# Train Model\n",
    "history = model.fit(X_train, y_train, validation_data = (X_test, y_test), batch_size = 10, epochs = 100)"
   ]
  },
  {
   "cell_type": "code",
   "execution_count": 59,
   "id": "e6519d27",
   "metadata": {},
   "outputs": [
    {
     "name": "stdout",
     "output_type": "stream",
     "text": [
      "Train: 0.730, Valid: 0.740\n"
     ]
    }
   ],
   "source": [
    "_, train_acc = model.evaluate(X_train, y_train, verbose=0)\n",
    "_, valid_acc = model.evaluate(X_test, y_test, verbose=0)\n",
    "print('Train: %.3f, Valid: %.3f' % (train_acc, valid_acc))\n"
   ]
  },
  {
   "cell_type": "code",
   "execution_count": 61,
   "id": "30f22e33",
   "metadata": {},
   "outputs": [
    {
     "data": {
      "image/png": "[encoded data removed]",
      "text/plain": [
       "<Figure size 576x360 with 1 Axes>"
      ]
     },
     "metadata": {
      "needs_background": "light"
     },
     "output_type": "display_data"
    }
   ],
   "source": [
    "plt.figure(figsize=[8,5])\n",
    "plt.plot(history.history['accuracy'], label='Train')\n",
    "plt.legend()\n",
    "plt.xlabel('Epochs', fontsize=16)\n",
    "plt.ylabel('Accuracy', fontsize=16)\n",
    "plt.title('Accuracy Curves Epoch 100, Batch Size 10', fontsize=16)\n",
    "plt.show()"
   ]
  },
  {
   "cell_type": "markdown",
   "id": "487cd74e",
   "metadata": {},
   "source": [
    "# Batch Size:  6"
   ]
  },
  {
   "cell_type": "code",
   "execution_count": 77,
   "id": "a87550e6",
   "metadata": {},
   "outputs": [],
   "source": [
    "model_1 = Sequential()\n",
    "model_1.add(Dense(6, input_dim=10, activation='relu'))\n",
    "model_1.add(Dense(6, activation='relu'))\n",
    "model_1.add(Dense(6, activation='sigmoid'))\n",
    "model_1.add(Dropout(0.2))\n",
    "model_1.add(Dense(1, activation = 'relu'))"
   ]
  },
  {
   "cell_type": "code",
   "execution_count": 78,
   "id": "811fc2a7",
   "metadata": {},
   "outputs": [],
   "source": [
    "model_1.compile(optimizer = 'adam',\n",
    "metrics=['accuracy'],\n",
    "loss = 'binary_crossentropy')"
   ]
  },
  {
   "cell_type": "code",
   "execution_count": 81,
   "id": "7324eed9",
   "metadata": {},
   "outputs": [],
   "source": [
    "# Fit Model\n",
    "history = model_1.fit(X_train, y_train, validation_data=(X_test, y_test), epochs=100, verbose=0, batch_size=6)"
   ]
  },
  {
   "cell_type": "code",
   "execution_count": 82,
   "id": "77939a6e",
   "metadata": {},
   "outputs": [
    {
     "name": "stdout",
     "output_type": "stream",
     "text": [
      "Train: 0.757, Valid: 0.707\n"
     ]
    }
   ],
   "source": [
    "_, train_acc = model_1.evaluate(X_train, y_train, verbose=0)\n",
    "_, valid_acc = model_1.evaluate(X_test, y_test, verbose=0)\n",
    "print('Train: %.3f, Valid: %.3f' % (train_acc, valid_acc))\n",
    "# Model accuracy is imroved with batch size of 6"
   ]
  },
  {
   "cell_type": "code",
   "execution_count": 83,
   "id": "e4a284da",
   "metadata": {},
   "outputs": [
    {
     "data": {
      "image/png": "[encoded data removed]",
      "text/plain": [
       "<Figure size 576x360 with 1 Axes>"
      ]
     },
     "metadata": {
      "needs_background": "light"
     },
     "output_type": "display_data"
    }
   ],
   "source": [
    "plt.figure(figsize=[8,5])\n",
    "plt.plot(history.history['accuracy'], label='Train')\n",
    "plt.legend()\n",
    "plt.xlabel('Epochs', fontsize=16)\n",
    "plt.ylabel('Accuracy', fontsize=16)\n",
    "plt.title('Accuracy Curves Epoch 100, Batch Size 10', fontsize=16)\n",
    "plt.show()"
   ]
  }
 ],
 "metadata": {
  "kernelspec": {
   "display_name": "Python 3 (ipykernel)",
   "language": "python",
   "name": "python3"
  },
  "language_info": {
   "codemirror_mode": {
    "name": "ipython",
    "version": 3
   },
   "file_extension": ".py",
   "mimetype": "text/x-python",
   "name": "python",
   "nbconvert_exporter": "python",
   "pygments_lexer": "ipython3",
   "version": "3.9.7"
  }
 },
 "nbformat": 4,
 "nbformat_minor": 5
}
